{
 "cells": [
  {
   "cell_type": "code",
   "execution_count": 1,
   "metadata": {},
   "outputs": [],
   "source": [
    "import numpy as np"
   ]
  },
  {
   "cell_type": "code",
   "execution_count": 2,
   "metadata": {},
   "outputs": [],
   "source": [
    "def f(x):\n",
    "    return x * np.sin(3 * x) - np.exp(x)\n",
    "\n",
    "def deriv_f(x):\n",
    "    return np.sin(3 * x) + 3 * x * np.cos(3 * x) - np.exp(x)"
   ]
  },
  {
   "cell_type": "code",
   "execution_count": 23,
   "metadata": {},
   "outputs": [],
   "source": [
    "#Newton Raphson\n",
    "A1 = np.array([-1.6]) #Initial Guess\n",
    "\n",
    "for j in range(1000):\n",
    "    A1 = np.append(A1, A1[j] - (f(A1[j]) / deriv_f(A1[j])))\n",
    "    fc = f(A1[j])\n",
    "    if abs(fc) < 10**(-6):\n",
    "        A3 = np.array([j+1])\n",
    "        break"
   ]
  },
  {
   "cell_type": "code",
   "execution_count": 24,
   "metadata": {},
   "outputs": [],
   "source": [
    "#Bisection Method\n",
    "x_l = -0.7\n",
    "x_r = -0.4\n",
    "A2 = np.array([])\n",
    "for j in range (1000):\n",
    "    A2 = np.append(A2, (x_l + x_r)/2)\n",
    "    fc = f(A2[j])\n",
    "    if abs(fc) < 10**(-6):\n",
    "        A3 = np.append(A3, j+1)\n",
    "        break\n",
    "    if np.sign(fc) == np.sign(f(x_l)):\n",
    "        x_l = A2[j]\n",
    "    else:\n",
    "        x_r = A2[j]"
   ]
  },
  {
   "cell_type": "code",
   "execution_count": 25,
   "metadata": {},
   "outputs": [],
   "source": [
    "A_m = np.array([[1,2],\n",
    "               [-1,1]])\n",
    "B = np.array([[2,0],\n",
    "             [0,2]])\n",
    "C = np.array([[2,0,-3],\n",
    "             [0,0,-1]])\n",
    "D = np.array([[1,2],\n",
    "             [2,3],\n",
    "             [-1,0]])\n",
    "x_v = np.array([[1],\n",
    "               [0]])\n",
    "y = np.array([[0],\n",
    "             [1]])\n",
    "z = np.array([[1],\n",
    "             [2],\n",
    "             [-1]])"
   ]
  },
  {
   "cell_type": "code",
   "execution_count": 26,
   "metadata": {},
   "outputs": [],
   "source": [
    "A4 = np.squeeze(A_m+B)\n",
    "A5 = np.squeeze(3 * x_v - 4 * y)\n",
    "A6 = np.squeeze(A_m @ x_v)\n",
    "A7 = np.squeeze(B @ (x_v - y))\n",
    "A8 = np.squeeze(D @ x_v)\n",
    "A9 = np.squeeze(D @ y + z)\n",
    "A10 = A_m @ B\n",
    "A11 = B @ C\n",
    "A12 = C @ D"
   ]
  }
 ],
 "metadata": {
  "kernelspec": {
   "display_name": "jax_environment",
   "language": "python",
   "name": "python3"
  },
  "language_info": {
   "codemirror_mode": {
    "name": "ipython",
    "version": 3
   },
   "file_extension": ".py",
   "mimetype": "text/x-python",
   "name": "python",
   "nbconvert_exporter": "python",
   "pygments_lexer": "ipython3",
   "version": "3.10.11"
  }
 },
 "nbformat": 4,
 "nbformat_minor": 2
}
